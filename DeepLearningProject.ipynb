{
 "cells": [
  {
   "cell_type": "code",
   "execution_count": 13,
   "id": "ecc49cd1",
   "metadata": {},
   "outputs": [],
   "source": [
    "import pandas as pd \n",
    "import numpy as np \n",
    "import matplotlib.pyplot as plt\n",
    "from matplotlib.path import Path\n",
    "\n",
    "import pickle\n",
    "from tqdm import tqdm \n",
    "\n",
    "import torch\n",
    "import torch.nn as nn\n",
    "import torch.optim as optim\n",
    "import torch.nn.functional as F\n",
    "from torch import cat\n",
    "from torchvision import transforms\n",
    "from sklearn.utils import gen_batches"
   ]
  },
  {
   "cell_type": "markdown",
   "id": "af696afd",
   "metadata": {},
   "source": [
    "# Data Importation and Treatment"
   ]
  },
  {
   "cell_type": "code",
   "execution_count": 14,
   "id": "81dc59bd",
   "metadata": {},
   "outputs": [
    {
     "name": "stdout",
     "output_type": "stream",
     "text": [
      "There are 37779 observations and each observation has 7 attributes.\n"
     ]
    }
   ],
   "source": [
    "# Importation of the data\n",
    "filename = './data/meta_data.hdf'\n",
    "row_data = pd.read_hdf(filename,'/d')\n",
    "\n",
    "print(f'There are {row_data.shape[0]} observations and each observation has {row_data.shape[1]} attributes.')"
   ]
  },
  {
   "cell_type": "code",
   "execution_count": 15,
   "id": "a3486505",
   "metadata": {},
   "outputs": [
    {
     "name": "stdout",
     "output_type": "stream",
     "text": [
      "There are 1620 validated observations and each observation has 7 attributes.\n"
     ]
    }
   ],
   "source": [
    "# Here we merge all data (csv) together from the validation part \n",
    "all_files = ['paths_df_validated_3000_5500.csv', 'paths_df_validated_5500_6500.csv']\n",
    "final_data = pd.DataFrame()\n",
    "\n",
    "for file in all_files : \n",
    "    temp = pd.read_csv(file)\n",
    "    temp = temp.loc[temp['valid'] == True] #Select only the 'True' = Validated images\n",
    "    final_data = pd.concat([final_data,temp],axis=0) #Concatenate the information in one dataframe\n",
    "\n",
    "# We select the images from row_data with the index of the validation part (final_data)\n",
    "index_name = final_data['original_index'].values    # Select the index\n",
    "data = row_data.iloc[index_name]                    # Extract the validated images\n",
    "\n",
    "print(f'There are {data.shape[0]} validated observations and each observation has {data.shape[1]} attributes.')"
   ]
  },
  {
   "cell_type": "code",
   "execution_count": 16,
   "id": "4f812eca",
   "metadata": {},
   "outputs": [
    {
     "name": "stdout",
     "output_type": "stream",
     "text": [
      "All is good with the dataset, we can continue !\n"
     ]
    }
   ],
   "source": [
    "# This bloc checks if the selected images are the good ones\n",
    "n_match = (final_data['mask_path'].values == data['building_id'].values).sum()\n",
    "if n_match == data.shape[0] :\n",
    "    print('All is good with the dataset, we can continue !')\n",
    "else : \n",
    "    print('There is a mismatch between pictures (pictures names)')"
   ]
  },
  {
   "cell_type": "code",
   "execution_count": 17,
   "id": "fcdd78c1",
   "metadata": {},
   "outputs": [],
   "source": [
    "# This bloc plots the picture and the corresponding polygon surfaces.\n",
    "showing = False \n",
    "\n",
    "# This function plots the surface polygons of the selected image \n",
    "def image_reader (image_data) : \n",
    "    surfaces = image_data.b_surfaces\n",
    "    # One polygone\n",
    "    if (len(surfaces[0])==2) : \n",
    "        plt.plot(np.array(surfaces)[:,1],np.array(surfaces)[:,0], label = 'surface', c = 'r')\n",
    "    # Multiples polygones\n",
    "    else :\n",
    "        for polygons in surfaces : \n",
    "            plt.plot(np.array(polygons)[:,1],np.array(polygons)[:,0], label = 'surface', c = 'r')\n",
    "    return 0\n",
    "\n",
    "# The for-loop that will plot the pictures \n",
    "if showing :\n",
    "    n = 1\n",
    "    for i in range (n) : \n",
    "        a = data.iloc[i]\n",
    "        im_name = a.building_id +  '-b15-otovowms.jpeg'\n",
    "        print(im_name)\n",
    "        im_matrix = plt.imread('./data/' + im_name)\n",
    "        plt.imshow(im_matrix)\n",
    "        image_reader(a)\n",
    "        plt.show()"
   ]
  },
  {
   "cell_type": "code",
   "execution_count": 18,
   "id": "39ead431",
   "metadata": {},
   "outputs": [],
   "source": [
    "# This function creates the mask for one image, the mask is a array (500*500)\n",
    "def mask_creation (n,p,surfaces) : \n",
    "    # If one polygon in surface list\n",
    "    if (len(surfaces[0])==2) : \n",
    "        x, y = np.meshgrid(np.arange(n), np.arange(p))\n",
    "        x, y = x.flatten(), y.flatten()\n",
    "        points = np.vstack((x,y)).T\n",
    "        path = Path(surfaces)\n",
    "        grid = path.contains_points(points)\n",
    "        grid = grid.reshape((n,p))\n",
    "    # If multiple polygones in surface list\n",
    "    else :\n",
    "        grid = np.reshape([False for i in range (n*p)],(n,p))\n",
    "        for i,polygons in enumerate(surfaces) : \n",
    "            x, y = np.meshgrid(np.arange(n), np.arange(p))\n",
    "            x, y = x.flatten(), y.flatten()\n",
    "            points = np.vstack((x,y)).T\n",
    "            path = Path(polygons)\n",
    "            grid_2 = path.contains_points(points)\n",
    "            grid_2 = grid_2.reshape((n,p))\n",
    "            grid = np.add(grid,grid_2)\n",
    "    # We return the 500*500 matrix filled with True and False\n",
    "    return (grid)\n",
    "\n",
    "\n",
    "\n",
    "# This function creates a format that will be use for the DL Network\n",
    "def creation_useful_dataset(dataset) : \n",
    "    # Creation of variables \n",
    "    X=[]; Y=[];\n",
    "    length,_ = dataset.shape\n",
    "    n = 500; p = 500; # Image Shape\n",
    "    for i in tqdm(range(length)) :\n",
    "        # Import the wanted picture and the matrix\n",
    "        info = dataset.iloc[i]\n",
    "        image_name = info.building_id + '-b15-otovowms.jpeg'\n",
    "        im_matrix = plt.imread('./data/' + image_name)\n",
    "        # We build the X_dataset \n",
    "        X.append(im_matrix)\n",
    "        # We build the target_dataset\n",
    "        surfaces = info.b_surfaces\n",
    "        Y.append(mask_creation(n,p,surfaces))\n",
    "    # We convert the array in pytorch Tensor \n",
    "    X = torch.Tensor(np.array(X))\n",
    "    X = torch.swapaxes(X, 1, -1)  # To have (B,C,H,W)\n",
    "    Y = torch.Tensor(np.array(Y)) \n",
    "    return (X,Y)"
   ]
  },
  {
   "cell_type": "code",
   "execution_count": 14,
   "id": "69f8e875",
   "metadata": {},
   "outputs": [
    {
     "name": "stdout",
     "output_type": "stream",
     "text": [
      "Importation of the Training set\n"
     ]
    },
    {
     "name": "stderr",
     "output_type": "stream",
     "text": [
      "100%|███████████████████████████████████████| 1296/1296 [02:16<00:00,  9.47it/s]\n"
     ]
    },
    {
     "name": "stdout",
     "output_type": "stream",
     "text": [
      "Importation of the Testing set\n"
     ]
    },
    {
     "name": "stderr",
     "output_type": "stream",
     "text": [
      "100%|█████████████████████████████████████████| 324/324 [00:33<00:00,  9.66it/s]\n"
     ]
    }
   ],
   "source": [
    "# We create a split 70% Training set, 15% validation set, 15% testing set \n",
    "n_split1 = int(data.shape[0]*0.70) \n",
    "n_split2 = int(data.shape[0]*0.85)\n",
    "df_train = data.iloc[:n_split1]\n",
    "df_validation = data.iloc[n_split1:n_split2]\n",
    "df_test = data.iloc[n_split2:]\n",
    "\n",
    "print('Importation of the Training set')\n",
    "X_train, Y_train = creation_useful_dataset(df_train)\n",
    "print('Importation of the Validation set')\n",
    "X_validation, Y_validation = creation_useful_dataset(df_train)\n",
    "print('Importation of the Testing set')\n",
    "X_test, Y_test = creation_useful_dataset(df_test)"
   ]
  },
  {
   "cell_type": "code",
   "execution_count": null,
   "id": "6f2cba6c",
   "metadata": {},
   "outputs": [],
   "source": [
    "# Dump the data into a pickle file\n",
    "with open('./pickles/data.X_train', 'wb') as f:\n",
    "     pickle.dump(X_train, f)\n",
    "with open('./pickles/data.Y_train', 'wb') as f:\n",
    "     pickle.dump(Y_train, f)\n",
    "        \n",
    "with open('./pickles/data.X_validation', 'wb') as f:\n",
    "     pickle.dump(X_validation, f)\n",
    "with open('./pickles/data.Y_validation', 'wb') as f:\n",
    "     pickle.dump(Y_validation, f)\n",
    "with open('./pickles/data.X_test', 'wb') as f:\n",
    "     pickle.dump(X_test, f)\n",
    "with open('./pickles/data.Y_test', 'wb') as f:\n",
    "     pickle.dump(Y_test, f)"
   ]
  },
  {
   "cell_type": "markdown",
   "id": "eaa499a8",
   "metadata": {},
   "source": [
    "**Data Augmentation** \n",
    "\n",
    "We can shift the image 90°,180°,270° to have more images to train on."
   ]
  },
  {
   "cell_type": "markdown",
   "id": "a45ef6b5",
   "metadata": {},
   "source": [
    "# Deep Learning Network "
   ]
  },
  {
   "cell_type": "code",
   "execution_count": 3,
   "id": "d43cbec3",
   "metadata": {},
   "outputs": [],
   "source": [
    "# Load the data from a pickle file\n",
    "with open('./pickles/data.X_train', 'rb') as f:\n",
    "     X_train = pickle.load(f)\n",
    "with open('./pickles/data.Y_train', 'rb') as f:\n",
    "     Y_train = pickle.load(f)\n",
    "with open('./pickles/data.X_validation', 'rb') as f:\n",
    "     X_validation = pickle.load(f)\n",
    "with open('./pickles/data.Y_validation', 'rb') as f:\n",
    "     Y_validation = pickle.load(f)\n",
    "with open('./pickles/data.X_test', 'rb') as f:\n",
    "     X_test = pickle.load(f)\n",
    "with open('./pickles/data.Y_test', 'rb') as f:\n",
    "     Y_test = pickle.load(f)"
   ]
  },
  {
   "cell_type": "code",
   "execution_count": 10,
   "id": "0651954c",
   "metadata": {},
   "outputs": [
    {
     "name": "stdout",
     "output_type": "stream",
     "text": [
      "X_train : torch.Size([1296, 3, 500, 500]) - [Batchsize,Channel,Height,Width]\n",
      "Y_train : torch.Size([1296, 500, 500]) - [Batchsize,Height,Width]\n",
      "X_validation : torch.Size([75, 3, 500, 500]) - [Batchsize,Channel,Height,Width]\n",
      "Y_validation : torch.Size([75, 500, 500]) - [Batchsize,Height,Width]\n",
      "X_test : torch.Size([24, 3, 500, 500]) - [Batchsize,Channel,Height,Width]\n",
      "Y_test : torch.Size([24, 500, 500]) - [Batchsize,Height,Width]\n"
     ]
    }
   ],
   "source": [
    "print(f'X_train : {X_train.shape} - [Batchsize,Channel,Height,Width]')\n",
    "print(f'Y_train : {Y_train.shape} - [Batchsize,Height,Width]')\n",
    "print(f'X_validation : {X_validation.shape} - [Batchsize,Channel,Height,Width]')\n",
    "print(f'Y_validation : {Y_validation.shape} - [Batchsize,Height,Width]')\n",
    "print(f'X_test : {X_test.shape} - [Batchsize,Channel,Height,Width]')\n",
    "print(f'Y_test : {Y_test.shape} - [Batchsize,Height,Width]')"
   ]
  },
  {
   "cell_type": "code",
   "execution_count": 36,
   "id": "d332fd82",
   "metadata": {},
   "outputs": [],
   "source": [
    "small_dataset_for_test = False \n",
    "\n",
    "## For testing the network, we take a smaller dataset \n",
    "if small_dataset_for_test : \n",
    "    n_split = 3\n",
    "    df_train = data.iloc[:n_split]\n",
    "    df_validation = data.iloc[n_split:n_split+2]\n",
    "    df_test = data.iloc[n_split+2:n_split+4]\n",
    "    print('Importation of the Training set')\n",
    "    X_train, Y_train = creation_useful_dataset(df_train)\n",
    "    print('Importation of the Validation set')\n",
    "    X_validation, Y_validation = creation_useful_dataset(df_validation)\n",
    "    print('Importation of the Testing set')\n",
    "    X_test, Y_test = creation_useful_dataset(df_test)"
   ]
  },
  {
   "cell_type": "code",
   "execution_count": 30,
   "id": "78a2cf8f",
   "metadata": {},
   "outputs": [],
   "source": [
    "# The convolutional network (U-net)\n",
    "class UNetV2(nn.Module):\n",
    "    def __init__(self):\n",
    "        super().__init__()\n",
    "        # Contracting Path\n",
    "        self.conv11 = nn.Conv2d(in_channels=3,out_channels=64,kernel_size=3, stride=1, padding=1)\n",
    "        self.conv12 = nn.Conv2d(in_channels=64,out_channels=64,kernel_size=3, stride=1, padding=1)\n",
    "        self.pool1 = nn.MaxPool2d(2, 2)\n",
    "        self.conv21 = nn.Conv2d(in_channels=64,out_channels=128,kernel_size=3, stride=1, padding=1)\n",
    "        self.conv22 = nn.Conv2d(in_channels=128,out_channels=128,kernel_size=3, stride=1, padding=1)\n",
    "        self.pool2 = nn.MaxPool2d(2, 2)\n",
    "        self.conv31 = nn.Conv2d(in_channels=128,out_channels=256,kernel_size=3, stride=1, padding=1)\n",
    "        self.conv32 = nn.Conv2d(in_channels=256,out_channels=256,kernel_size=3, stride=1, padding=1)\n",
    "        self.pool3 = nn.MaxPool2d(2, 2)\n",
    "        self.conv41 = nn.Conv2d(in_channels=256,out_channels=512,kernel_size=3, stride=1, padding=1)\n",
    "        self.conv42 = nn.Conv2d(in_channels=512,out_channels=512,kernel_size=3, stride=1, padding=1)\n",
    "        self.pool4 = nn.MaxPool2d(2, 2)\n",
    "        self.conv51 = nn.Conv2d(in_channels=512,out_channels=1024,kernel_size=3, stride=1, padding=1)\n",
    "        self.conv52 = nn.Conv2d(in_channels=1024,out_channels=1024,kernel_size=3, stride=1, padding=1)\n",
    "        self.pool5 = nn.MaxPool2d(2, 2)\n",
    "\n",
    "        # Expanding Path\n",
    "        self.up5 = nn.Upsample(size=(62,62))\n",
    "        self.conv53 = nn.Conv2d(in_channels = 1024, out_channels=512, kernel_size=3, stride=1, padding=1)\n",
    "        \n",
    "        self.conv61 = nn.Conv2d(in_channels=1024,out_channels=512,kernel_size=3, stride=1, padding=1)\n",
    "        self.conv62 = nn.Conv2d(in_channels=512,out_channels=512,kernel_size=3, stride=1, padding=1)\n",
    "        self.up6 = nn.Upsample(size=(125,125))\n",
    "        self.conv63 = nn.Conv2d(in_channels = 512, out_channels=256, kernel_size=3, stride=1, padding=1)\n",
    "\n",
    "        self.conv71 = nn.Conv2d(in_channels=512,out_channels=256,kernel_size=3, stride=1, padding=1)\n",
    "        self.conv72 = nn.Conv2d(in_channels=256,out_channels=256,kernel_size=3, stride=1, padding=1)\n",
    "        self.up7 = nn.Upsample(size=(250,250))\n",
    "        self.conv73 = nn.Conv2d(in_channels = 256, out_channels=128, kernel_size=3, stride=1, padding=1)\n",
    "        \n",
    "        self.conv81 = nn.Conv2d(in_channels=256,out_channels=128,kernel_size=3, stride=1, padding=1)\n",
    "        self.conv82 = nn.Conv2d(in_channels=128,out_channels=128,kernel_size=3, stride=1, padding=1)\n",
    "        self.up8 = nn.Upsample(size=(500,500))\n",
    "        self.conv83 = nn.Conv2d(in_channels = 128, out_channels=64, kernel_size=3, stride=1, padding=1)\n",
    "        \n",
    "        self.conv91 = nn.Conv2d(in_channels=128,out_channels=64,kernel_size=3, stride=1, padding=1)\n",
    "        self.conv92 = nn.Conv2d(in_channels=64,out_channels=64,kernel_size=3, stride=1, padding=1)\n",
    "        self.conv93 = nn.Conv2d(in_channels=64,out_channels=2,kernel_size=3, stride=1, padding=1)\n",
    "\n",
    "        # Output\n",
    "        self.conv10 = nn.Conv2d(in_channels=2,out_channels=1,kernel_size=1)\n",
    "\n",
    "    def forward(self, x):\n",
    "        # Contracting Path\n",
    "        x1 = F.relu(self.conv11(x))\n",
    "        x1 = F.relu(self.conv12(x1))\n",
    "        \n",
    "        x2 = self.pool1(x1)\n",
    "        x2 = F.relu(self.conv21(x2))\n",
    "        x2 = F.relu(self.conv22(x2))\n",
    "        \n",
    "        x3 = self.pool2(x2)\n",
    "        x3 = F.relu(self.conv31(x3))\n",
    "        x3 = F.relu(self.conv32(x3))\n",
    "        \n",
    "        x4 = self.pool3(x3)\n",
    "        x4 = F.relu(self.conv41(x4))\n",
    "        x4 = F.relu(self.conv42(x4))\n",
    "        \n",
    "        x5 = self.pool4(x4)\n",
    "        x5 = F.relu(self.conv51(x5))\n",
    "        x5 = F.relu(self.conv52(x5))\n",
    "\n",
    "        # Expanding Path\n",
    "        x5 = self.up5(x5)\n",
    "        x6 = self.conv53(x5)\n",
    "        x4 = transforms.CenterCrop(62)(x4)\n",
    "        x6 = cat([x4, x6], axis=1)\n",
    "        x6 = F.relu(self.conv61(x6))\n",
    "        x6 = F.relu(self.conv62(x6))\n",
    "        \n",
    "        x6 = self.up6(x6)\n",
    "        x7 = self.conv63(x6)\n",
    "        x3 = transforms.CenterCrop(125)(x3)\n",
    "        x7 = cat([x3, x7], axis=1)\n",
    "        x7 = F.relu(self.conv71(x7))\n",
    "        x7 = F.relu(self.conv72(x7))\n",
    "        \n",
    "        x7 = self.up7(x7)\n",
    "        x8 = self.conv73(x7)\n",
    "        x2 = transforms.CenterCrop(250)(x2)\n",
    "        x8 = cat([x2, x8], axis=1)\n",
    "        x8 = F.relu(self.conv81(x8))\n",
    "        x8 = F.relu(self.conv82(x8))\n",
    "        \n",
    "        x8 = self.up8(x8)\n",
    "        x9 = self.conv83(x8)\n",
    "        x1 = transforms.CenterCrop(500)(x1)\n",
    "        x9 = cat([x1, x9], axis=1)      \n",
    "        x9 = F.relu(self.conv91(x9))\n",
    "        x9 = F.relu(self.conv92(x9))\n",
    "        x9 = F.relu(self.conv93(x9))\n",
    "\n",
    "        # Output\n",
    "        x10 = self.conv10(x9)\n",
    "        x10 = torch.sigmoid(x10)\n",
    "        return x10"
   ]
  },
  {
   "cell_type": "code",
   "execution_count": 31,
   "id": "506ae119",
   "metadata": {},
   "outputs": [],
   "source": [
    "class UNetV3(nn.Module):\n",
    "    def __init__(self):\n",
    "        super().__init__()\n",
    "        # Contracting Path\n",
    "        self.conv11 = nn.Conv2d(in_channels=3,out_channels=64,kernel_size=3, stride=1, padding=1)        \n",
    "        self.bn11 = nn.BatchNorm2d(num_features = 64, eps = 0.00001, momentum = 0.1)\n",
    "        self.conv12 = nn.Conv2d(in_channels=64,out_channels=64,kernel_size=3, stride=1, padding=1)\n",
    "        self.bn12 = nn.BatchNorm2d(num_features = 64, eps = 0.00001, momentum = 0.1)\n",
    "        self.pool1 = nn.MaxPool2d(2, 2)\n",
    "        \n",
    "        self.conv21 = nn.Conv2d(in_channels=64,out_channels=128,kernel_size=3, stride=1, padding=1)\n",
    "        self.bn21 = nn.BatchNorm2d(num_features = 128, eps = 0.00001, momentum = 0.1)\n",
    "        self.conv22 = nn.Conv2d(in_channels=128,out_channels=128,kernel_size=3, stride=1, padding=1)\n",
    "        self.bn22 = nn.BatchNorm2d(num_features = 128, eps = 0.00001, momentum = 0.1)\n",
    "        self.pool2 = nn.MaxPool2d(2, 2)\n",
    "        \n",
    "        self.conv31 = nn.Conv2d(in_channels=128,out_channels=256,kernel_size=3, stride=1, padding=1)\n",
    "        self.bn31 = nn.BatchNorm2d(num_features = 256, eps = 0.00001, momentum = 0.1)\n",
    "        self.conv32 = nn.Conv2d(in_channels=256,out_channels=256,kernel_size=3, stride=1, padding=1)\n",
    "        self.bn32 = nn.BatchNorm2d(num_features = 256, eps = 0.00001, momentum = 0.1)\n",
    "        self.pool3 = nn.MaxPool2d(2, 2)\n",
    "        \n",
    "        self.conv41 = nn.Conv2d(in_channels=256,out_channels=512,kernel_size=3, stride=1, padding=1)\n",
    "        self.bn41 = nn.BatchNorm2d(num_features = 512, eps = 0.00001, momentum = 0.1)\n",
    "        self.conv42 = nn.Conv2d(in_channels=512,out_channels=512,kernel_size=3, stride=1, padding=1)\n",
    "        self.bn42 = nn.BatchNorm2d(num_features = 512, eps = 0.00001, momentum = 0.1)\n",
    "        self.pool4 = nn.MaxPool2d(2, 2)\n",
    "        \n",
    "        self.conv51 = nn.Conv2d(in_channels=512,out_channels=1024,kernel_size=3, stride=1, padding=1)\n",
    "        self.bn51 = nn.BatchNorm2d(num_features = 1024, eps = 0.00001, momentum = 0.1)\n",
    "        self.conv52 = nn.Conv2d(in_channels=1024,out_channels=1024,kernel_size=3, stride=1, padding=1)\n",
    "        self.bn52 = nn.BatchNorm2d(num_features = 1024, eps = 0.00001, momentum = 0.1)\n",
    "        self.pool5 = nn.MaxPool2d(2, 2)\n",
    "\n",
    "        # Expanding Path\n",
    "        self.up5 = nn.Upsample(size=(62,62))\n",
    "        self.conv53 = nn.Conv2d(in_channels = 1024, out_channels=512, kernel_size=3, stride=1, padding=1)\n",
    "        self.bn53 = nn.BatchNorm2d(num_features = 512, eps = 0.00001, momentum = 0.1)\n",
    "        \n",
    "        self.conv61 = nn.Conv2d(in_channels=1024,out_channels=512,kernel_size=3, stride=1, padding=1)\n",
    "        self.bn61 = nn.BatchNorm2d(num_features = 512, eps = 0.00001, momentum = 0.1)\n",
    "        self.conv62 = nn.Conv2d(in_channels=512,out_channels=512,kernel_size=3, stride=1, padding=1)\n",
    "        self.bn62 = nn.BatchNorm2d(num_features = 512, eps = 0.00001, momentum = 0.1)\n",
    "        self.up6 = nn.Upsample(size=(125,125))\n",
    "        self.conv63 = nn.Conv2d(in_channels = 512, out_channels=256, kernel_size=3, stride=1, padding=1)\n",
    "        self.bn63 = nn.BatchNorm2d(num_features = 256, eps = 0.00001, momentum = 0.1)\n",
    "\n",
    "        self.conv71 = nn.Conv2d(in_channels=512,out_channels=256,kernel_size=3, stride=1, padding=1)\n",
    "        self.bn71 = nn.BatchNorm2d(num_features = 256, eps = 0.00001, momentum = 0.1)\n",
    "        self.conv72 = nn.Conv2d(in_channels=256,out_channels=256,kernel_size=3, stride=1, padding=1)\n",
    "        self.bn72 = nn.BatchNorm2d(num_features = 256, eps = 0.00001, momentum = 0.1)\n",
    "        self.up7 = nn.Upsample(size=(250,250))\n",
    "        self.conv73 = nn.Conv2d(in_channels = 256, out_channels=128, kernel_size=3, stride=1, padding=1)\n",
    "        self.bn73 = nn.BatchNorm2d(num_features = 128, eps = 0.00001, momentum = 0.1)\n",
    "        \n",
    "        self.conv81 = nn.Conv2d(in_channels=256,out_channels=128,kernel_size=3, stride=1, padding=1)\n",
    "        self.bn81 = nn.BatchNorm2d(num_features = 128, eps = 0.00001, momentum = 0.1)\n",
    "        self.conv82 = nn.Conv2d(in_channels=128,out_channels=128,kernel_size=3, stride=1, padding=1)\n",
    "        self.bn82 = nn.BatchNorm2d(num_features = 128, eps = 0.00001, momentum = 0.1)\n",
    "        self.up8 = nn.Upsample(size=(500,500))\n",
    "        self.conv83 = nn.Conv2d(in_channels = 128, out_channels=64, kernel_size=3, stride=1, padding=1)\n",
    "        self.bn83 = nn.BatchNorm2d(num_features = 64, eps = 0.00001, momentum = 0.1)\n",
    "        \n",
    "        self.conv91 = nn.Conv2d(in_channels=128,out_channels=64,kernel_size=3, stride=1, padding=1)\n",
    "        self.bn91 = nn.BatchNorm2d(num_features = 64, eps = 0.00001, momentum = 0.1)\n",
    "        self.conv92 = nn.Conv2d(in_channels=64,out_channels=64,kernel_size=3, stride=1, padding=1)\n",
    "        self.bn92 = nn.BatchNorm2d(num_features = 64, eps = 0.00001, momentum = 0.1)\n",
    "        self.conv93 = nn.Conv2d(in_channels=64,out_channels=2,kernel_size=3, stride=1, padding=1)\n",
    "        self.bn93 = nn.BatchNorm2d(num_features = 2, eps = 0.00001, momentum = 0.1)\n",
    "\n",
    "        # Output\n",
    "        self.conv10 = nn.Conv2d(in_channels=2,out_channels=1,kernel_size=1)\n",
    "        self.bn10 = nn.BatchNorm2d(num_features = 1, eps = 0.00001, momentum = 0.1)\n",
    "        \n",
    "        # The Dropout Rate of the Network\n",
    "        self.dropout = nn.Dropout(0.2) \n",
    "\n",
    "    def forward(self, x):\n",
    "        # Contracting Path\n",
    "        x1 = F.relu(self.bn11(self.conv11(x)))\n",
    "        x1 = F.relu(self.bn12(self.conv12(x1)))\n",
    "        x1 = self.pool1(x1)\n",
    "        x2 = self.dropout(x1)\n",
    "        \n",
    "        x2 = F.relu(self.bn21(self.conv21(x2)))\n",
    "        x2 = F.relu(self.bn22(self.conv22(x2)))\n",
    "        x2 = self.pool2(x2)\n",
    "        x3 = self.dropout(x2)\n",
    "        \n",
    "        x3 = F.relu(self.bn31(self.conv31(x3)))\n",
    "        x3 = F.relu(self.bn32(self.conv32(x3)))\n",
    "        x3 = self.pool3(x3)\n",
    "        x4 = self.dropout(x3)\n",
    "        \n",
    "        x4 = F.relu(self.bn41(self.conv41(x4)))\n",
    "        x4 = F.relu(self.bn42(self.conv42(x4)))\n",
    "        x4 = self.pool4(x4)\n",
    "        x5 = self.dropout(x4)\n",
    "        \n",
    "        x5 = F.relu(self.bn51(self.conv51(x5)))\n",
    "        x5 = F.relu(self.bn52(self.conv52(x5)))\n",
    "\n",
    "        # Expanding Path\n",
    "        x5 = self.up5(x5)\n",
    "        x6 = self.bn53(self.conv53(x5))\n",
    "        x4 = transforms.CenterCrop(62)(x4)\n",
    "        x6 = cat([x4, x6], axis=1)\n",
    "        x6 = self.dropout(x6)\n",
    "        x6 = F.relu(self.bn61(self.conv61(x6)))\n",
    "        x6 = F.relu(self.bn62(self.conv62(x6)))\n",
    "        \n",
    "        x6 = self.up6(x6)\n",
    "        x7 = self.bn63(self.conv63(x6))\n",
    "        x3 = transforms.CenterCrop(125)(x3)\n",
    "        x7 = cat([x3, x7], axis=1)\n",
    "        x7 = self.dropout(x7)\n",
    "        x7 = F.relu(self.bn71(self.conv71(x7)))\n",
    "        x7 = F.relu(self.bn72(self.conv72(x7)))\n",
    "        \n",
    "        x7 = self.up7(x7)\n",
    "        x8 = self.bn73(self.conv73(x7))\n",
    "        x2 = transforms.CenterCrop(250)(x2)\n",
    "        x8 = cat([x2, x8], axis=1)\n",
    "        x8 = self.dropout(x8)\n",
    "        x8 = F.relu(self.bn81(self.conv81(x8)))\n",
    "        x8 = F.relu(self.bn82(self.conv82(x8)))\n",
    "        \n",
    "        x8 = self.up8(x8)\n",
    "        x9 = self.bn83(self.conv83(x8))\n",
    "        x1 = transforms.CenterCrop(500)(x1)\n",
    "        x9 = cat([x1, x9], axis=1)      \n",
    "        x9 = self.dropout(x9)\n",
    "        x9 = F.relu(self.bn91(self.conv91(x9)))\n",
    "        x9 = F.relu(self.bn92(self.conv92(x9)))\n",
    "        x9 = F.relu(self.bn93(self.conv93(x9)))\n",
    "\n",
    "        # Output\n",
    "        x10 = self.bn10(self.conv10(x9))\n",
    "        x10 = torch.sigmoid(x10)\n",
    "        return x10"
   ]
  },
  {
   "cell_type": "code",
   "execution_count": 32,
   "id": "d2aecbf2",
   "metadata": {},
   "outputs": [],
   "source": [
    "# The loss function : Intersection over Union (IoU)\n",
    "class IoULoss(nn.Module):\n",
    "    def __init__(self, weight=None, size_average=True):\n",
    "        super(IoULoss, self).__init__()\n",
    "\n",
    "    def forward(self, inputs, targets, smooth=1):\n",
    "        # Flatten label and prediction tensors\n",
    "        inputs = inputs.view(-1)\n",
    "        targets = targets.view(-1)\n",
    "        # Intersection is equivalent to True Positive count\n",
    "        # Union is the mutually inclusive area of all labels & predictions \n",
    "        intersection = (inputs * targets).sum()\n",
    "        total = (inputs + targets).sum()\n",
    "        union = total - intersection \n",
    "        IoU = (intersection + smooth)/(union + smooth)\n",
    "        return 1 - IoU"
   ]
  },
  {
   "cell_type": "code",
   "execution_count": 35,
   "id": "d19fa9a0",
   "metadata": {},
   "outputs": [
    {
     "name": "stdout",
     "output_type": "stream",
     "text": [
      "Model n°0\n",
      "   Epoch n°1/1\n"
     ]
    },
    {
     "name": "stderr",
     "output_type": "stream",
     "text": [
      "100%|█████████████████████████████████████████████| 2/2 [01:06<00:00, 33.34s/it]\n"
     ]
    },
    {
     "name": "stdout",
     "output_type": "stream",
     "text": [
      " Model 1 Trained and pickled\n",
      "Model n°1\n",
      "   Epoch n°1/1\n"
     ]
    },
    {
     "name": "stderr",
     "output_type": "stream",
     "text": [
      "100%|█████████████████████████████████████████████| 2/2 [01:29<00:00, 44.78s/it]\n"
     ]
    },
    {
     "name": "stdout",
     "output_type": "stream",
     "text": [
      " Model 2 Trained and pickled\n"
     ]
    },
    {
     "data": {
      "image/png": "[encoded data removed]",
      "text/plain": [
       "<Figure size 432x288 with 1 Axes>"
      ]
     },
     "metadata": {
      "needs_background": "light"
     },
     "output_type": "display_data"
    }
   ],
   "source": [
    "# Settings of the model \n",
    "net1 = UNetV2()      # Simple model\n",
    "net2 = UNetV3()     # Model with dropout and BatchNorm2d\n",
    "criterion = IoULoss()\n",
    "optimizer = optim.Adam(net.parameters(), lr=0.001, betas=(0.9, 0.999), eps=1e-08, weight_decay=1e-6)\n",
    "models = [net1,net2]\n",
    "\n",
    "# Batch Creation for the training of the model\n",
    "batch_size = 2\n",
    "batches_index_train = list(gen_batches(X_train.shape[0],batch_size=batch_size))\n",
    "n_epoch = 1\n",
    "\n",
    "for j,net in enumerate(models) : \n",
    "    # Someful paramaters \n",
    "    losses_values_per_batches = []\n",
    "    print(f'Model n°{j}')\n",
    "    for epoch in range(n_epoch) : # loop over the dataset multiple times\n",
    "        print(f'   Epoch n°{epoch+1}/{n_epoch}')\n",
    "        for i in tqdm(range(len(batches_index_train))) : \n",
    "            batch_slice = batches_index_train[i]                         # Get the index of the batch\n",
    "            inputs, masks = X_train[batch_slice], Y_train[batch_slice]   # Get inputs and masks\n",
    "            # zero the parameter gradients\n",
    "            optimizer.zero_grad()\n",
    "            # Step : forward + backward + optimize\n",
    "            outputs = torch.squeeze(net(inputs),dim=1)     # To reduce the dimension to [B,H,W] of outputs\n",
    "            outputs = (outputs>0.5)*1                      # From probabilities to [0,1] for mask and loss computation\n",
    "            # Computation of loss function\n",
    "            loss = criterion(outputs, masks)               # Compute 1-IoT as loss value \n",
    "            loss.requires_grad = True                      # We add a gradient to the loss tensor\n",
    "            loss.backward()                                # Backward of loss function\n",
    "            optimizer.step()                               # We optimize the network\n",
    "\n",
    "            ## We compute loss for this batch on the validation set\n",
    "            net.eval()                                     # We want to evaluate the model\n",
    "            inputs, masks = X_validation, Y_validation     # Get the inputs and masks of validation set \n",
    "            outputs = torch.squeeze(net(inputs),dim=1)>0.5 # Output of the model    \n",
    "            loss = criterion((outputs), masks)             # Compute 1-IoT as loss value \n",
    "            losses_values_per_batches.append(loss.mean())  # Append the mean loss of the batch \n",
    "            net.train()                                    # We turn the model to training mode \n",
    "    \n",
    "    if(j == 0) : # If net1 == U_netV2\n",
    "        # Pickle the model \n",
    "        with open('./pickles/cnn_model', 'wb') as f:\n",
    "             pickle.dump(net, f)\n",
    "\n",
    "        print('   Model 1 Trained and pickled /n')\n",
    "\n",
    "        # We create a plot/png of the loss of the model for epoch batch \n",
    "        plt.plot(range(len(batches_index_train)*n_epoch),losses_values_per_batches)\n",
    "        plt.title('1-IoU loss per epoch')\n",
    "        plt.xlabel('Epoch')\n",
    "        plt.ylabel('Loss (1-IoU)')\n",
    "        plt.ylim(0,1.05)\n",
    "        plt.savefig('./pickles/graph_loss_per_batch.png')\n",
    "    \n",
    "    if(j == 1) : # If net2 == U_netV3\n",
    "        # Pickle the model \n",
    "        with open('./pickles/cnn_model_improved', 'wb') as f:\n",
    "             pickle.dump(net, f)\n",
    "\n",
    "        print('   Model 2 Trained and pickled /n')\n",
    "\n",
    "        # We create a plot/png of the loss of the model for epoch batch \n",
    "        plt.plot(range(len(batches_index_train)*n_epoch),losses_values_per_batches)\n",
    "        plt.title('1-IoU loss per epoch')\n",
    "        plt.xlabel('Epoch')\n",
    "        plt.ylabel('Loss (1-IoU)')\n",
    "        plt.ylim(0,1.05)\n",
    "        plt.savefig('./pickles/graph_loss_per_batch_improved.png')\n"
   ]
  },
  {
   "cell_type": "markdown",
   "id": "f59ae362",
   "metadata": {},
   "source": [
    "# Importation of the DL network"
   ]
  },
  {
   "cell_type": "code",
   "execution_count": 127,
   "id": "c998a94d",
   "metadata": {},
   "outputs": [],
   "source": [
    "# Pickle the model \n",
    "with open('./pickles/cnn_model', 'rb') as f:\n",
    "     net = pickle.load(f)\n",
    "with open('./pickles/cnn_model_improved', 'rb') as f:\n",
    "     net_improved = pickle.load(f)"
   ]
  },
  {
   "cell_type": "code",
   "execution_count": 128,
   "id": "ef40f7f4",
   "metadata": {},
   "outputs": [
    {
     "name": "stdout",
     "output_type": "stream",
     "text": [
      "The loss is : 0.8936958312988281\n"
     ]
    }
   ],
   "source": [
    "# Testing the model \n",
    "outputs = torch.squeeze(net(X_test),dim=1)\n",
    "outputs = (outputs>0.5)\n",
    "print(f'The loss is : {criterion(outputs, Y_test)}')"
   ]
  },
  {
   "cell_type": "code",
   "execution_count": 129,
   "id": "668cff82",
   "metadata": {},
   "outputs": [
    {
     "data": {
      "image/png": "[encoded data removed]",
      "text/plain": [
       "<Figure size 432x288 with 2 Axes>"
      ]
     },
     "metadata": {
      "needs_background": "light"
     },
     "output_type": "display_data"
    },
    {
     "data": {
      "image/png": "[encoded data removed]",
      "text/plain": [
       "<Figure size 432x288 with 2 Axes>"
      ]
     },
     "metadata": {
      "needs_background": "light"
     },
     "output_type": "display_data"
    }
   ],
   "source": [
    "# Plotting for rigolade \n",
    "for i, prediction in enumerate(outputs[:3]) :\n",
    "    fig,ax = plt.subplots(1,2)\n",
    "    true_mask = np.array(Y_test[i])\n",
    "    prediction = np.array(prediction)\n",
    "    ax[0].imshow(true_mask)\n",
    "    ax[1].imshow(prediction)\n",
    "    plt.show()"
   ]
  },
  {
   "cell_type": "markdown",
   "id": "c1596685",
   "metadata": {},
   "source": [
    "# To do list :\n",
    "\n",
    "**Optimizer :** We can try with different optimizers to see some differences.\n",
    "\n",
    "**Batch :** Export and Import batch data for each epoch to use less memory.\n",
    "\n",
    "**Metrics :** We can use intersection over union (IoU) with the masks, AUC, position recall curve.\n",
    "\n",
    "**Expansion of the model :** We can test the model on unseen data to see if it can be generalized.\n",
    "\n",
    "**Create a validation set :** In order to validate of model for each epoch, we can compute the loss withthe validation set."
   ]
  }
 ],
 "metadata": {
  "kernelspec": {
   "display_name": "Python 3 (ipykernel)",
   "language": "python",
   "name": "python3"
  },
  "language_info": {
   "codemirror_mode": {
    "name": "ipython",
    "version": 3
   },
   "file_extension": ".py",
   "mimetype": "text/x-python",
   "name": "python",
   "nbconvert_exporter": "python",
   "pygments_lexer": "ipython3",
   "version": "3.8.2"
  }
 },
 "nbformat": 4,
 "nbformat_minor": 5
}
